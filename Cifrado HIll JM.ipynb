{
 "cells": [
  {
   "cell_type": "code",
   "execution_count": 14,
   "id": "dfd7e174-f683-4390-955b-be7bd8a8258e",
   "metadata": {},
   "outputs": [],
   "source": [
    "import numpy as np\n",
    "\n",
    "class Matrix:\n",
    "    def __init__(self, raw):\n",
    "        self.raw = raw\n",
    "        self.rows = len(raw)\n",
    "        self.cols = len(raw[0])\n",
    "\n",
    "    @staticmethod\n",
    "    def GetIdentityMatrix(n):\n",
    "        return [[1 if i == j else 0 for j in range(n)] for i in range(n)]\n",
    "\n",
    "    def defineElement(self, n, applier):\n",
    "        row = n // self.cols\n",
    "        col = n % self.cols\n",
    "        self.raw[row][col] = applier\n",
    "\n",
    "\n",
    "class OperableMatrix(Matrix):\n",
    "    def MatrixMultiplication(self, matrix2, matrix1=None):\n",
    "        matrix1 = matrix1 or self\n",
    "        if matrix1.cols != matrix2.rows:\n",
    "            raise ValueError(\"Dimensiones incompatibles para multiplicación de matrices\")\n",
    "        result = [\n",
    "            [sum(matrix1.raw[i][k] * matrix2.raw[k][j] for k in range(matrix1.cols))\n",
    "             for j in range(matrix2.cols)]\n",
    "            for i in range(matrix1.rows)\n",
    "        ]\n",
    "        return OperableMatrix(result)\n",
    "\n",
    "    def Inverse(self):\n",
    "        n = self.rows\n",
    "        A = [row[:] for row in self.raw]  # Copia de la matriz original\n",
    "        I = [[1 if i == j else 0 for j in range(n)] for i in range(n)]  # Matriz identidad\n",
    "    \n",
    "        for i in range(n):\n",
    "            # Buscar el pivote\n",
    "            pivot = A[i][i]\n",
    "            if pivot == 0:\n",
    "                # Buscar una fila abajo para intercambiar\n",
    "                for k in range(i + 1, n):\n",
    "                    if A[k][i] != 0:\n",
    "                        A[i], A[k] = A[k], A[i]\n",
    "                        I[i], I[k] = I[k], I[i]\n",
    "                        pivot = A[i][i]\n",
    "                        break\n",
    "                else:\n",
    "                    raise ValueError(\"La matriz no es invertible (pivote cero)\")\n",
    "    \n",
    "            # Normalizar la fila i\n",
    "            factor = A[i][i]\n",
    "            A[i] = [a / factor for a in A[i]]\n",
    "            I[i] = [a / factor for a in I[i]]\n",
    "    \n",
    "            # Eliminar los demás elementos de la columna\n",
    "            for j in range(n):\n",
    "                if j != i:\n",
    "                    factor = A[j][i]\n",
    "                    A[j] = [a - factor * b for a, b in zip(A[j], A[i])]\n",
    "                    I[j] = [a - factor * b for a, b in zip(I[j], I[i])]\n",
    "    \n",
    "        return OperableMatrix(I)\n",
    "\n",
    "\n",
    "\n",
    "# Diccionario\n",
    "diccionario = {\n",
    "    'A': 0, 'B': 1, 'C': 2, 'D': 3, 'E': 4, 'F': 5, 'G': 6, 'H': 7, 'I': 8, 'J': 9,\n",
    "    'K': 10, 'L': 11, 'M': 12, 'N': 13, 'O': 14, 'P': 15, 'Q': 16, 'R': 17, 'S': 18,\n",
    "    'T': 19, 'U': 20, 'V': 21, 'W': 22, 'X': 23, 'Y': 24, 'Z': 25, ' ': 26\n",
    "}\n",
    "\n",
    "# Modular\n",
    "\n",
    "def moduleIt(n, m=27):\n",
    "    return (n % m + m) % m\n",
    "\n",
    "def Module27(matrix):\n",
    "    return [[moduleIt(el) for el in row] for row in matrix]\n",
    "\n",
    "def Decode(matrix):\n",
    "    output = []\n",
    "    for i in range(len(matrix[0])):\n",
    "        for row in matrix:\n",
    "            val = int(round(row[i]))\n",
    "            output.append(next(k for k, v in diccionario.items() if v == val))\n",
    "    return output\n",
    "\n",
    "def TextToArray(text):\n",
    "    text = text.upper()\n",
    "    if len(text) % n > 0:\n",
    "        text += \" \" * (n - len(text) % n)\n",
    "    return [diccionario[char] for char in text]\n",
    "\n",
    "def ArrayToMatrix(array):\n",
    "    output = [[] for _ in range(n)]\n",
    "    for u in range(len(array) // n):\n",
    "        for i in range(n):\n",
    "            output[i].append(array[u * n + i])\n",
    "    return output\n",
    "\n",
    "def UNC_TextToMatrix(text):\n",
    "    output = [diccionario[char] for char in text]\n",
    "    return ArrayToMatrix(output)\n",
    "\n",
    "# Configuración principal\n",
    "n = 4\n",
    "mensaje = \"Consistent effort and practice are essential for everything\"\n",
    "\n",
    "c = [\n",
    "    [1, 0, 0, 0],\n",
    "    [2, 1, 0, 0],\n",
    "    [3, 4, 1, 0],\n",
    "    [5, 6, 7, 1]\n",
    "]\n",
    "\n",
    "c = OperableMatrix(c)\n",
    "\n",
    "# Validaciones\n",
    "if c.rows != c.cols:\n",
    "    print(\"...No es cuadrada\")"
   ]
  },
  {
   "cell_type": "code",
   "execution_count": 15,
   "id": "b260825f-c5e9-4908-8125-ce19435cb8be",
   "metadata": {},
   "outputs": [
    {
     "data": {
      "text/plain": [
       "'Consistent effort and practice are essential for everything'"
      ]
     },
     "execution_count": 15,
     "metadata": {},
     "output_type": "execute_result"
    }
   ],
   "source": [
    "# Mensaje original\n",
    "mensaje"
   ]
  },
  {
   "cell_type": "code",
   "execution_count": 16,
   "id": "f9ec9680-812e-4625-ba3a-7b51ae8da0a5",
   "metadata": {},
   "outputs": [
    {
     "name": "stdout",
     "output_type": "stream",
     "text": [
      "[2, 14, 13, 18, 8, 18, 19, 4, 13, 19, 26, 4, 5, 5, 14, 17, 19, 26, 0, 13, 3, 26, 15, 17, 0, 2, 19, 8, 2, 4, 26, 0, 17, 4, 26, 4, 18, 18, 4, 13, 19, 8, 0, 11, 26, 5, 14, 17, 26, 4, 21, 4, 17, 24, 19, 7, 8, 13, 6, 26]\n"
     ]
    }
   ],
   "source": [
    "# --- Codificación ---\n",
    "\n",
    "# Carácteres codificados\n",
    "codificados = TextToArray(mensaje)\n",
    "print(codificados)"
   ]
  },
  {
   "cell_type": "code",
   "execution_count": 17,
   "id": "ec198682-7a48-4f4b-b403-f44146b57777",
   "metadata": {},
   "outputs": [
    {
     "data": {
      "text/plain": [
       "array([[ 2,  8, 13,  5, 19,  3,  0,  2, 17, 18, 19, 26, 26, 17,  8],\n",
       "       [14, 18, 19,  5, 26, 26,  2,  4,  4, 18,  8,  5,  4, 24, 13],\n",
       "       [13, 19, 26, 14,  0, 15, 19, 26, 26,  4,  0, 14, 21, 19,  6],\n",
       "       [18,  4,  4, 17, 13, 17,  8,  0,  4, 13, 11, 17,  4,  7, 26]])"
      ]
     },
     "execution_count": 17,
     "metadata": {},
     "output_type": "execute_result"
    }
   ],
   "source": [
    "# Matriz de carácteres codificados\n",
    "A = OperableMatrix(ArrayToMatrix(codificados))\n",
    "(np.array(A.raw))"
   ]
  },
  {
   "cell_type": "code",
   "execution_count": 18,
   "id": "ada5cc27-2d0c-4e3e-bf52-99ec070fce99",
   "metadata": {},
   "outputs": [
    {
     "data": {
      "text/plain": [
       "array([[  2,   8,  13,   5,  19,   3,   0,   2,  17,  18,  19,  26,  26,\n",
       "         17,   8],\n",
       "       [ 18,  34,  45,  15,  64,  32,   2,   8,  38,  54,  46,  57,  56,\n",
       "         58,  29],\n",
       "       [ 75, 115, 141,  49, 161, 128,  27,  48,  93, 130,  89, 112, 115,\n",
       "        166,  82],\n",
       "       [203, 285, 365, 170, 264, 293, 153, 216, 295, 239, 154, 275, 305,\n",
       "        369, 186]])"
      ]
     },
     "execution_count": 18,
     "metadata": {},
     "output_type": "execute_result"
    }
   ],
   "source": [
    "# Matriz codificada (Multiplicada)\n",
    "matriz_codificada = c.MatrixMultiplication(A).raw\n",
    "(np.array(matriz_codificada))"
   ]
  },
  {
   "cell_type": "code",
   "execution_count": 19,
   "id": "d1a73352-ad52-44a1-abb6-c60651c16c28",
   "metadata": {},
   "outputs": [
    {
     "data": {
      "text/plain": [
       "array([[ 2,  8, 13,  5, 19,  3,  0,  2, 17, 18, 19, 26, 26, 17,  8],\n",
       "       [18,  7, 18, 15, 10,  5,  2,  8, 11,  0, 19,  3,  2,  4,  2],\n",
       "       [21,  7,  6, 22, 26, 20,  0, 21, 12, 22,  8,  4,  7,  4,  1],\n",
       "       [14, 15, 14,  8, 21, 23, 18,  0, 25, 23, 19,  5,  8, 18, 24]])"
      ]
     },
     "execution_count": 19,
     "metadata": {},
     "output_type": "execute_result"
    }
   ],
   "source": [
    "# Matriz en módulo 27\n",
    "matriz_codificada_mod = Module27(matriz_codificada)\n",
    "(np.array(matriz_codificada_mod))"
   ]
  },
  {
   "cell_type": "code",
   "execution_count": 20,
   "id": "def643be-4d75-4a21-bda4-3aa9942be9be",
   "metadata": {},
   "outputs": [
    {
     "data": {
      "text/plain": [
       "'CSVOIHHPNSGOFPWITK VDFUXACASCIVARLMZSAWXTTIT DEF CHIREESICBY'"
      ]
     },
     "execution_count": 20,
     "metadata": {},
     "output_type": "execute_result"
    }
   ],
   "source": [
    "# Mensaje codificado\n",
    "mensaje_codificado = ''.join(Decode(matriz_codificada_mod))\n",
    "(mensaje_codificado)"
   ]
  },
  {
   "cell_type": "code",
   "execution_count": 21,
   "id": "f290383f-f5d9-4619-81e9-461450b4a8c7",
   "metadata": {},
   "outputs": [
    {
     "data": {
      "text/plain": [
       "array([[ 2,  8, 13,  5, 19,  3,  0,  2, 17, 18, 19, 26, 26, 17,  8],\n",
       "       [18,  7, 18, 15, 10,  5,  2,  8, 11,  0, 19,  3,  2,  4,  2],\n",
       "       [21,  7,  6, 22, 26, 20,  0, 21, 12, 22,  8,  4,  7,  4,  1],\n",
       "       [14, 15, 14,  8, 21, 23, 18,  0, 25, 23, 19,  5,  8, 18, 24]])"
      ]
     },
     "execution_count": 21,
     "metadata": {},
     "output_type": "execute_result"
    }
   ],
   "source": [
    "# Codificado a matriz\n",
    "matrixed = OperableMatrix(UNC_TextToMatrix(mensaje_codificado))\n",
    "(np.array(matrixed.raw))"
   ]
  },
  {
   "cell_type": "code",
   "execution_count": 22,
   "id": "786494cb-f14b-4dba-8bad-4fa675dbb091",
   "metadata": {},
   "outputs": [
    {
     "data": {
      "text/plain": [
       "array([[  1.,   0.,   0.,   0.],\n",
       "       [ -2.,   1.,   0.,   0.],\n",
       "       [  5.,  -4.,   1.,   0.],\n",
       "       [-28.,  22.,  -7.,   1.]])"
      ]
     },
     "execution_count": 22,
     "metadata": {},
     "output_type": "execute_result"
    }
   ],
   "source": [
    "# Inversa de C\n",
    "inversedC = c.Inverse()\n",
    "(np.array(inversedC.raw))"
   ]
  },
  {
   "cell_type": "code",
   "execution_count": 23,
   "id": "3153fb41-3a53-4bc7-a206-b07be2418245",
   "metadata": {},
   "outputs": [
    {
     "data": {
      "text/plain": [
       "array([[ 1.,  0.,  0.,  0.],\n",
       "       [25.,  1.,  0.,  0.],\n",
       "       [ 5., 23.,  1.,  0.],\n",
       "       [26., 22., 20.,  1.]])"
      ]
     },
     "execution_count": 23,
     "metadata": {},
     "output_type": "execute_result"
    }
   ],
   "source": [
    "# Módulo 27 de la inversa\n",
    "inversedC_mod = OperableMatrix(Module27(inversedC.raw))\n",
    "(np.array(inversedC_mod.raw))"
   ]
  },
  {
   "cell_type": "code",
   "execution_count": 24,
   "id": "4a79ab23-f752-42ab-8aff-286d7214b773",
   "metadata": {},
   "outputs": [
    {
     "data": {
      "text/plain": [
       "array([[ 2.,  8., 13.,  5., 19.,  3.,  0.,  2., 17., 18., 19., 26., 26.,\n",
       "        17.,  8.],\n",
       "       [14., 18., 19.,  5., 26., 26.,  2.,  4.,  4., 18.,  8.,  5.,  4.,\n",
       "        24., 13.],\n",
       "       [13., 19., 26., 14.,  0., 15., 19., 26., 26.,  4.,  0., 14., 21.,\n",
       "        19.,  6.],\n",
       "       [18.,  4.,  4., 17., 13., 17.,  8.,  0.,  4., 13., 11., 17.,  4.,\n",
       "         7., 26.]])"
      ]
     },
     "execution_count": 24,
     "metadata": {},
     "output_type": "execute_result"
    }
   ],
   "source": [
    "# Multiplicación de matrices\n",
    "multiplicado = inversedC_mod.MatrixMultiplication(matrixed).raw\n",
    "multiplicado_mod = Module27(multiplicado)\n",
    "(np.array(multiplicado_mod))"
   ]
  },
  {
   "cell_type": "code",
   "execution_count": 25,
   "id": "b74dddbb-02e7-433f-8e88-7c00a4e0a935",
   "metadata": {},
   "outputs": [
    {
     "data": {
      "text/plain": [
       "'CONSISTENT EFFORT AND PRACTICE ARE ESSENTIAL FOR EVERYTHING '"
      ]
     },
     "execution_count": 25,
     "metadata": {},
     "output_type": "execute_result"
    }
   ],
   "source": [
    "# Mensaje decodificado\n",
    "mensaje_decodificado = ''.join(Decode(multiplicado_mod))\n",
    "(mensaje_decodificado)"
   ]
  },
  {
   "cell_type": "code",
   "execution_count": null,
   "id": "e4dc64f4-64f5-4678-8e4e-87dec05129ad",
   "metadata": {},
   "outputs": [],
   "source": []
  }
 ],
 "metadata": {
  "kernelspec": {
   "display_name": "Python 3 (ipykernel)",
   "language": "python",
   "name": "python3"
  },
  "language_info": {
   "codemirror_mode": {
    "name": "ipython",
    "version": 3
   },
   "file_extension": ".py",
   "mimetype": "text/x-python",
   "name": "python",
   "nbconvert_exporter": "python",
   "pygments_lexer": "ipython3",
   "version": "3.13.5"
  }
 },
 "nbformat": 4,
 "nbformat_minor": 5
}
